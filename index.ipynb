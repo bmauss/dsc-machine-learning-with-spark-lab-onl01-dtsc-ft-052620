{
  "nbformat": 4,
  "nbformat_minor": 0,
  "metadata": {
    "kernelspec": {
      "display_name": "Python 3",
      "language": "python",
      "name": "python3"
    },
    "language_info": {
      "codemirror_mode": {
        "name": "ipython",
        "version": 3
      },
      "file_extension": ".py",
      "mimetype": "text/x-python",
      "name": "python",
      "nbconvert_exporter": "python",
      "pygments_lexer": "ipython3",
      "version": "3.7.3"
    },
    "colab": {
      "name": "index.ipynb",
      "provenance": []
    }
  },
  "cells": [
    {
      "cell_type": "code",
      "metadata": {
        "id": "_PSjhUcVD4YS",
        "colab_type": "code",
        "colab": {}
      },
      "source": [
        "!apt-get install openjdk-8-jdk-headless -qq > /dev/null\n",
        "!wget -q https://archive.apache.org/dist/spark/spark-2.4.5/spark-2.4.5-bin-hadoop2.7.tgz\n",
        "!tar xf spark-2.4.5-bin-hadoop2.7.tgz\n",
        "!pip install -q findspark"
      ],
      "execution_count": 1,
      "outputs": []
    },
    {
      "cell_type": "code",
      "metadata": {
        "id": "MsTU01W9D5Q9",
        "colab_type": "code",
        "colab": {
          "base_uri": "https://localhost:8080/",
          "height": 51
        },
        "outputId": "c5786dbe-b8a0-4856-9aa3-48f27c4b9f2b"
      },
      "source": [
        "!pip install pyspark==2.4.5"
      ],
      "execution_count": 2,
      "outputs": [
        {
          "output_type": "stream",
          "text": [
            "Requirement already satisfied: pyspark==2.4.5 in /usr/local/lib/python3.6/dist-packages (2.4.5)\n",
            "Requirement already satisfied: py4j==0.10.7 in /usr/local/lib/python3.6/dist-packages (from pyspark==2.4.5) (0.10.7)\n"
          ],
          "name": "stdout"
        }
      ]
    },
    {
      "cell_type": "code",
      "metadata": {
        "id": "08tUMWinD5fI",
        "colab_type": "code",
        "colab": {
          "base_uri": "https://localhost:8080/",
          "height": 35
        },
        "outputId": "c7b0f777-8b4a-4720-8415-e10d9c1ace1e"
      },
      "source": [
        "import pyspark\n",
        "pyspark.__version__"
      ],
      "execution_count": 3,
      "outputs": [
        {
          "output_type": "execute_result",
          "data": {
            "application/vnd.google.colaboratory.intrinsic+json": {
              "type": "string"
            },
            "text/plain": [
              "'2.4.5'"
            ]
          },
          "metadata": {
            "tags": []
          },
          "execution_count": 3
        }
      ]
    },
    {
      "cell_type": "code",
      "metadata": {
        "id": "cmjfe7mcD80K",
        "colab_type": "code",
        "colab": {}
      },
      "source": [
        "import os\n",
        "# /usr/lib/jvm/java-8-openjdk-amd64\n",
        "os.environ[\"JAVA_HOME\"] = \"/usr/lib/jvm/java-8-openjdk-amd64\"\n",
        "# /content/spark-2.4.5-bin-hadoop2.7\n",
        "os.environ[\"SPARK_HOME\"] = \"/content/spark-2.4.5-bin-hadoop2.7\""
      ],
      "execution_count": 4,
      "outputs": []
    },
    {
      "cell_type": "markdown",
      "metadata": {
        "id": "8bxCYEoLD04L",
        "colab_type": "text"
      },
      "source": [
        "## Machine Learning with Spark - Lab\n",
        "\n",
        "## Introduction\n",
        "\n",
        "In the previous lesson, you saw how to manipulate data with Spark DataFrames as well as create machine learning models. In this lab, you're going to practice loading data, manipulating it, and fitting it in the Spark framework. Afterward, you're going to make use of different visualizations to see if you can get any insights from the model. This dataset is from a Taiwanese financial company, and the task is to determine which individuals are going to default on their credit card based off of characteristics such as limit balance, past payment history, age, marriage status, and sex. Let's get started!\n",
        "\n",
        "### Objectives\n",
        "\n",
        "In this lab you will: \n",
        "\n",
        "- Load and manipulate data using Spark DataFrames \n",
        "- Create a Spark ML pipeline that transforms data and runs over a grid of hyperparameters "
      ]
    },
    {
      "cell_type": "markdown",
      "metadata": {
        "id": "CN9f2bjTD04N",
        "colab_type": "text"
      },
      "source": [
        "To begin with create a SparkSession and import the `'credit_card_default.csv'` file  into a PySpark DataFrame. "
      ]
    },
    {
      "cell_type": "code",
      "metadata": {
        "id": "T8paeG1DD04P",
        "colab_type": "code",
        "colab": {}
      },
      "source": [
        "# import necessary libraries\n",
        "from pyspark import SparkContext\n",
        "from pyspark.sql import SparkSession\n",
        "# initialize Spark Session\n",
        "sc = SparkContext('local[*]')\n",
        "spark = SparkSession(sc)\n",
        "\n",
        "# read in csv to a spark dataframe\n",
        "spark_df = spark.read.csv('credit_card_default.csv', header='true', \n",
        "                          inferSchema='true')"
      ],
      "execution_count": 5,
      "outputs": []
    },
    {
      "cell_type": "markdown",
      "metadata": {
        "id": "JDO7GxdGD04W",
        "colab_type": "text"
      },
      "source": [
        "Check the datatypes to ensure that all columns are the datatype you expect."
      ]
    },
    {
      "cell_type": "code",
      "metadata": {
        "id": "7kllBqXXD04W",
        "colab_type": "code",
        "colab": {
          "base_uri": "https://localhost:8080/",
          "height": 442
        },
        "outputId": "fb2c618f-a2c7-4993-d76b-efc58dbb7778"
      },
      "source": [
        "spark_df.dtypes"
      ],
      "execution_count": 6,
      "outputs": [
        {
          "output_type": "execute_result",
          "data": {
            "text/plain": [
              "[('ID', 'int'),\n",
              " ('LIMIT_BAL', 'double'),\n",
              " ('SEX', 'string'),\n",
              " ('EDUCATION', 'string'),\n",
              " ('MARRIAGE', 'string'),\n",
              " ('AGE', 'int'),\n",
              " ('PAY_0', 'int'),\n",
              " ('PAY_2', 'int'),\n",
              " ('PAY_3', 'int'),\n",
              " ('PAY_4', 'int'),\n",
              " ('PAY_5', 'int'),\n",
              " ('PAY_6', 'int'),\n",
              " ('BILL_AMT1', 'double'),\n",
              " ('BILL_AMT2', 'double'),\n",
              " ('BILL_AMT3', 'double'),\n",
              " ('BILL_AMT4', 'double'),\n",
              " ('BILL_AMT5', 'double'),\n",
              " ('BILL_AMT6', 'double'),\n",
              " ('PAY_AMT1', 'double'),\n",
              " ('PAY_AMT2', 'double'),\n",
              " ('PAY_AMT3', 'double'),\n",
              " ('PAY_AMT4', 'double'),\n",
              " ('PAY_AMT5', 'double'),\n",
              " ('PAY_AMT6', 'double'),\n",
              " ('default', 'int')]"
            ]
          },
          "metadata": {
            "tags": []
          },
          "execution_count": 6
        }
      ]
    },
    {
      "cell_type": "markdown",
      "metadata": {
        "id": "sqhf_8O2D04a",
        "colab_type": "text"
      },
      "source": [
        "Check to see how many missing values are in the dataset. This will require using the `.filter()` , `.isNull()`, and `.count()` methods."
      ]
    },
    {
      "cell_type": "code",
      "metadata": {
        "id": "D2RirArID04b",
        "colab_type": "code",
        "colab": {
          "base_uri": "https://localhost:8080/",
          "height": 442
        },
        "outputId": "1601d288-86e6-4831-d345-61552872b384"
      },
      "source": [
        "for col in spark_df.columns:\n",
        "    # your code here\n",
        "    print('column', col, spark_df.filter(spark_df[col].isNull()).count())"
      ],
      "execution_count": 7,
      "outputs": [
        {
          "output_type": "stream",
          "text": [
            "column ID 0\n",
            "column LIMIT_BAL 0\n",
            "column SEX 0\n",
            "column EDUCATION 0\n",
            "column MARRIAGE 0\n",
            "column AGE 0\n",
            "column PAY_0 0\n",
            "column PAY_2 0\n",
            "column PAY_3 0\n",
            "column PAY_4 0\n",
            "column PAY_5 0\n",
            "column PAY_6 0\n",
            "column BILL_AMT1 0\n",
            "column BILL_AMT2 0\n",
            "column BILL_AMT3 0\n",
            "column BILL_AMT4 0\n",
            "column BILL_AMT5 0\n",
            "column BILL_AMT6 0\n",
            "column PAY_AMT1 0\n",
            "column PAY_AMT2 0\n",
            "column PAY_AMT3 0\n",
            "column PAY_AMT4 0\n",
            "column PAY_AMT5 0\n",
            "column PAY_AMT6 0\n",
            "column default 0\n"
          ],
          "name": "stdout"
        }
      ]
    },
    {
      "cell_type": "markdown",
      "metadata": {
        "id": "ts2mNiVSD04g",
        "colab_type": "text"
      },
      "source": [
        "Now, determine how many categories there are in each of the categorical columns."
      ]
    },
    {
      "cell_type": "code",
      "metadata": {
        "id": "PeOMShVlD04h",
        "colab_type": "code",
        "colab": {
          "base_uri": "https://localhost:8080/",
          "height": 68
        },
        "outputId": "ec464c15-93cf-4c2d-989c-af9719da36ae"
      },
      "source": [
        "for column, data_type in spark_df.dtypes:\n",
        "   # your code here\n",
        "   if data_type == 'string':\n",
        "     print('Feature ',column,'has: ', spark_df.select(column).distinct().collect())"
      ],
      "execution_count": 8,
      "outputs": [
        {
          "output_type": "stream",
          "text": [
            "Feature  SEX has:  [Row(SEX='Female'), Row(SEX='Male')]\n",
            "Feature  EDUCATION has:  [Row(EDUCATION='High School'), Row(EDUCATION='0'), Row(EDUCATION='5'), Row(EDUCATION='6'), Row(EDUCATION='Other'), Row(EDUCATION='Graduate'), Row(EDUCATION='College')]\n",
            "Feature  MARRIAGE has:  [Row(MARRIAGE='0'), Row(MARRIAGE='Other'), Row(MARRIAGE='Married'), Row(MARRIAGE='Single')]\n"
          ],
          "name": "stdout"
        }
      ]
    },
    {
      "cell_type": "markdown",
      "metadata": {
        "id": "ZB8F3nufD04k",
        "colab_type": "text"
      },
      "source": [
        "Interesting... it looks like we have some extraneous values in each of our categories. Let's look at some visualizations of each of these to determine just how many of them there are. Create bar plots of the variables `'EDUCATION'` and `'MARRIAGE'` to see how many of the undefined values there are. After doing so, come up with a strategy for accounting for the extra values."
      ]
    },
    {
      "cell_type": "code",
      "metadata": {
        "id": "ZXQwM9gpD04k",
        "colab_type": "code",
        "colab": {
          "base_uri": "https://localhost:8080/",
          "height": 299
        },
        "outputId": "5feb38e4-3fd5-449d-883d-443f1b66323e"
      },
      "source": [
        "import seaborn as sns\n",
        "import matplotlib.pyplot as plt\n",
        "%matplotlib inline\n",
        "\n",
        "\n",
        "## plotting the categories for education\n",
        "def bar_plot_values(i, group):\n",
        "  return [x[i] for x in group]\n",
        "\n",
        "edu_cats = spark_df.groupBy('EDUCATION').count().collect()\n",
        "sns.barplot(x=bar_plot_values(0, edu_cats), y=bar_plot_values(1, edu_cats))\n",
        "plt.show();"
      ],
      "execution_count": 9,
      "outputs": [
        {
          "output_type": "stream",
          "text": [
            "/usr/local/lib/python3.6/dist-packages/statsmodels/tools/_testing.py:19: FutureWarning: pandas.util.testing is deprecated. Use the functions in the public API at pandas.testing instead.\n",
            "  import pandas.util.testing as tm\n"
          ],
          "name": "stderr"
        },
        {
          "output_type": "display_data",
          "data": {
            "image/png": "[encoded data removed]",
            "text/plain": [
              "<Figure size 432x288 with 1 Axes>"
            ]
          },
          "metadata": {
            "tags": [],
            "needs_background": "light"
          }
        }
      ]
    },
    {
      "cell_type": "code",
      "metadata": {
        "id": "c17m2jgGD04o",
        "colab_type": "code",
        "colab": {
          "base_uri": "https://localhost:8080/",
          "height": 265
        },
        "outputId": "3160223c-dabf-4d77-c793-0516acb6fa58"
      },
      "source": [
        "## plotting the categories for marriage\n",
        "marriage_cats =  spark_df.groupby('MARRIAGE').count().collect()\n",
        "sns.barplot(x=bar_plot_values(0, marriage_cats), y=bar_plot_values(1, marriage_cats))\n",
        "plt.show()"
      ],
      "execution_count": 10,
      "outputs": [
        {
          "output_type": "display_data",
          "data": {
            "image/png": "[encoded data removed]",
            "text/plain": [
              "<Figure size 432x288 with 1 Axes>"
            ]
          },
          "metadata": {
            "tags": [],
            "needs_background": "light"
          }
        }
      ]
    },
    {
      "cell_type": "markdown",
      "metadata": {
        "id": "iM1uMAnYD04r",
        "colab_type": "text"
      },
      "source": [
        "It looks like there are barely any of the 0 and 5 categories. We can go ahead and throw them into the \"Other\" category since it's already operating as a catchall here. Similarly, the category \"0\" looks small, so let's throw it in with the \"Other\" values. You can do this by using a method called `.when()` from PySpark in conjunction with `.withColumn()` and `.otherwise()`.  "
      ]
    },
    {
      "cell_type": "code",
      "metadata": {
        "id": "wVfuS8DHD04s",
        "colab_type": "code",
        "colab": {}
      },
      "source": [
        "from pyspark.sql.functions import when\n",
        "\n",
        "## changing the values in the education column\n",
        "spark_df_2 = spark_df.withColumn('EDUCATION',\n",
        "                                 when(spark_df.EDUCATION == '0', 'Other')\\\n",
        "                                 .when(spark_df.EDUCATION == '5', 'Other')\\\n",
        "                                 .when(spark_df.EDUCATION == '6', 'Other')\\\n",
        "                                 .otherwise(spark_df['EDUCATION']))\n",
        "## changing the values in the marriage column\n",
        "\n",
        "spark_df_done = spark_df_2.withColumn('MARRIAGE',\n",
        "                                      when(spark_df_2.MARRIAGE == '0', 'Other')\\\n",
        "                                      .otherwise(spark_df_2['MARRIAGE']))"
      ],
      "execution_count": 11,
      "outputs": []
    },
    {
      "cell_type": "code",
      "metadata": {
        "id": "jalCPvYsD04v",
        "colab_type": "code",
        "colab": {
          "base_uri": "https://localhost:8080/",
          "height": 54
        },
        "outputId": "91f887b2-7e44-4a15-9f98-83e903f1ccdf"
      },
      "source": [
        "spark_df_done.head()"
      ],
      "execution_count": 12,
      "outputs": [
        {
          "output_type": "execute_result",
          "data": {
            "text/plain": [
              "Row(ID=2, LIMIT_BAL=120000.0, SEX='Female', EDUCATION='College', MARRIAGE='Single', AGE=26, PAY_0=-1, PAY_2=2, PAY_3=0, PAY_4=0, PAY_5=0, PAY_6=2, BILL_AMT1=2682.0, BILL_AMT2=1725.0, BILL_AMT3=2682.0, BILL_AMT4=3272.0, BILL_AMT5=3455.0, BILL_AMT6=3261.0, PAY_AMT1=0.0, PAY_AMT2=1000.0, PAY_AMT3=1000.0, PAY_AMT4=1000.0, PAY_AMT5=0.0, PAY_AMT6=2000.0, default=1)"
            ]
          },
          "metadata": {
            "tags": []
          },
          "execution_count": 12
        }
      ]
    },
    {
      "cell_type": "markdown",
      "metadata": {
        "id": "HeaTOH2bD04y",
        "colab_type": "text"
      },
      "source": [
        "Now let's take a look at all the values contained in the categorical columns of the DataFrame: "
      ]
    },
    {
      "cell_type": "code",
      "metadata": {
        "id": "TM1MP2VKD04y",
        "colab_type": "code",
        "colab": {
          "base_uri": "https://localhost:8080/",
          "height": 68
        },
        "outputId": "e166f207-a0c2-42e2-8a66-b29340345cfd"
      },
      "source": [
        "for column, data_type in spark_df_done.dtypes:\n",
        "    # your code here\n",
        "    if data_type == 'string':\n",
        "        print('Feature ',column,' has: ', spark_df_done.select(column).distinct().collect())"
      ],
      "execution_count": 13,
      "outputs": [
        {
          "output_type": "stream",
          "text": [
            "Feature  SEX  has:  [Row(SEX='Female'), Row(SEX='Male')]\n",
            "Feature  EDUCATION  has:  [Row(EDUCATION='High School'), Row(EDUCATION='Other'), Row(EDUCATION='Graduate'), Row(EDUCATION='College')]\n",
            "Feature  MARRIAGE  has:  [Row(MARRIAGE='Other'), Row(MARRIAGE='Married'), Row(MARRIAGE='Single')]\n"
          ],
          "name": "stdout"
        }
      ]
    },
    {
      "cell_type": "markdown",
      "metadata": {
        "id": "B9dehwhqD041",
        "colab_type": "text"
      },
      "source": [
        "Much better. Now, let's do a little more investigation into our target variable before diving into the machine learning aspect of this project."
      ]
    },
    {
      "cell_type": "markdown",
      "metadata": {
        "id": "ilgfj-GDD041",
        "colab_type": "text"
      },
      "source": [
        "##  EDA\n",
        "\n",
        "Let's first look at the overall distribution of class balance of the default and not default labels. Create a barplot to compare the number of defaults vs. non-defaults. This will require using `.groupBy()` as well as an aggregation method."
      ]
    },
    {
      "cell_type": "code",
      "metadata": {
        "id": "3uqxoYWrD042",
        "colab_type": "code",
        "colab": {
          "base_uri": "https://localhost:8080/",
          "height": 282
        },
        "outputId": "e95d7ee9-a1cb-4285-a090-f48a305ce826"
      },
      "source": [
        "number_of_defaults = spark_df_done.groupBy('default').count().collect()\n",
        "default = [x[0] for x in number_of_defaults]\n",
        "num_defaults = [x[1] for x in number_of_defaults]\n",
        "ax = sns.barplot(default,num_defaults)\n",
        "ax.set_ylabel('Number of Defaults')\n",
        "ax.set_xticklabels(['No Default (0)','Default (1)'])"
      ],
      "execution_count": 14,
      "outputs": [
        {
          "output_type": "execute_result",
          "data": {
            "text/plain": [
              "[Text(0, 0, 'No Default (0)'), Text(0, 0, 'Default (1)')]"
            ]
          },
          "metadata": {
            "tags": []
          },
          "execution_count": 14
        },
        {
          "output_type": "display_data",
          "data": {
            "image/png": "[encoded data removed]",
            "text/plain": [
              "<Figure size 432x288 with 1 Axes>"
            ]
          },
          "metadata": {
            "tags": [],
            "needs_background": "light"
          }
        }
      ]
    },
    {
      "cell_type": "markdown",
      "metadata": {
        "id": "EY1Mq-kqD045",
        "colab_type": "text"
      },
      "source": [
        "Let's also visualize the difference in default rate between males and females in this dataset."
      ]
    },
    {
      "cell_type": "code",
      "metadata": {
        "id": "xuGr2tYAD045",
        "colab_type": "code",
        "colab": {}
      },
      "source": [
        "# perform a groupby for default and sex\n"
      ],
      "execution_count": 15,
      "outputs": []
    },
    {
      "cell_type": "code",
      "metadata": {
        "id": "zScp6CU3D047",
        "colab_type": "code",
        "colab": {}
      },
      "source": [
        "# make barplot for female and male default v no default rate"
      ],
      "execution_count": 16,
      "outputs": []
    },
    {
      "cell_type": "markdown",
      "metadata": {
        "id": "1pgs1mRbD04-",
        "colab_type": "text"
      },
      "source": [
        "It looks like males have an ever so slightly higher default rate than females."
      ]
    },
    {
      "cell_type": "markdown",
      "metadata": {
        "id": "zTilC5NUD04_",
        "colab_type": "text"
      },
      "source": [
        "## Onto the Machine Learning!"
      ]
    },
    {
      "cell_type": "markdown",
      "metadata": {
        "id": "JR95Id6GD04_",
        "colab_type": "text"
      },
      "source": [
        "Now, it's time to fit the data to the PySpark machine learning model pipeline. You will need:\n",
        "\n",
        "* 3 StringIndexers (for each categorical feature)\n",
        "* A OneHotEncoderEstimator (to encode the newly indexed strings into categorical variables)\n",
        "* A VectorAssembler (to combine all features into one SparseVector)\n",
        "\n",
        "All of these initialized estimators should be stored in a list."
      ]
    },
    {
      "cell_type": "code",
      "metadata": {
        "id": "cxltwlkVD05A",
        "colab_type": "code",
        "colab": {
          "base_uri": "https://localhost:8080/",
          "height": 54
        },
        "outputId": "c5334785-0a40-44dd-d1ee-9f8fe50cb9c9"
      },
      "source": [
        "# importing the necessary modules\n",
        "from pyspark.ml.feature import StringIndexer, OneHotEncoderEstimator, VectorAssembler, StringIndexerModel\n",
        "stages = []\n",
        "indexers = []\n",
        "\n",
        "# creating the string indexers\n",
        "for col in ['EDUCATION','SEX','MARRIAGE']:\n",
        "    indexers.append(StringIndexer(inputCol =col,outputCol=col+'_',handleInvalid='keep'))\n",
        "    \n",
        "input_columns = [indexer.getOutputCol() for indexer in indexers]\n",
        "\n",
        "one_hot_encoder = OneHotEncoderEstimator(inputCols=input_columns,outputCols=[col + 'ohe' for col in input_columns],dropLast=True)\n",
        "\n",
        "\n",
        "# features to be included in the model \n",
        "features = ['LIMIT_BAL','AGE','PAY_0','PAY_2','PAY_3',\n",
        "            'PAY_4','PAY_5','PAY_6', 'BILL_AMT1','BILL_AMT2',\n",
        "            'BILL_AMT3','BILL_AMT4','BILL_AMT5','BILL_AMT6']\n",
        "\n",
        "# adding the categorical features\n",
        "features.extend(one_hot_encoder.getOutputCols())\n",
        "\n",
        "# putting all of the features into a single vector\n",
        "vector_assember = VectorAssembler(inputCols= features , outputCol='features')\n",
        "\n",
        "stages.extend(indexers)\n",
        "stages.extend([one_hot_encoder,vector_assember])\n",
        "print(stages)\n"
      ],
      "execution_count": 19,
      "outputs": [
        {
          "output_type": "stream",
          "text": [
            "[StringIndexer_c2483835b148, StringIndexer_b74ee4f93d19, StringIndexer_aacb46ac0f59, OneHotEncoderEstimator_8d6feefbb585, VectorAssembler_02fbcf27a709]\n"
          ],
          "name": "stdout"
        }
      ]
    },
    {
      "cell_type": "markdown",
      "metadata": {
        "id": "xFJNxuOyD05C",
        "colab_type": "text"
      },
      "source": [
        "Alright! Now let's see if that worked. Let's investigate how it transforms your dataset. Put all of the stages in a Pipeline and fit it to your data. Look at the features column. Did you obtain the number of features you expected?"
      ]
    },
    {
      "cell_type": "code",
      "metadata": {
        "id": "tMJnzbvBD05D",
        "colab_type": "code",
        "colab": {
          "base_uri": "https://localhost:8080/",
          "height": 54
        },
        "outputId": "d9ab9614-d264-4b28-b519-09cb5ee1c933"
      },
      "source": [
        "from pyspark.ml.pipeline import Pipeline\n",
        "pipe = Pipeline(stages=stages)\n",
        "data_transformer = pipe.fit(spark_df_done)\n",
        "transformed_data = data_transformer.transform(spark_df_done)\n",
        "p = transformed_data.select('features')\n",
        "p.head()\n",
        "# 17 numerical features and 6 categorical ones (the argument dropLast = True makes us have Sex, 3 Edu variables and 2 marriage)"
      ],
      "execution_count": 20,
      "outputs": [
        {
          "output_type": "execute_result",
          "data": {
            "text/plain": [
              "Row(features=SparseVector(23, {0: 120000.0, 1: 26.0, 2: -1.0, 3: 2.0, 7: 2.0, 8: 2682.0, 9: 1725.0, 10: 2682.0, 11: 3272.0, 12: 3455.0, 13: 3261.0, 14: 1.0, 18: 1.0, 20: 1.0}))"
            ]
          },
          "metadata": {
            "tags": []
          },
          "execution_count": 20
        }
      ]
    },
    {
      "cell_type": "markdown",
      "metadata": {
        "id": "VxRXqy8OD05F",
        "colab_type": "text"
      },
      "source": [
        "## Fitting Machine Learning Models\n",
        "That looks good! Now let's go ahead and fit data to different machine learning models. To evaluate these models, you should use the `BinaryClassificationEvaluator`. Below is an import of all the classes and libraries you'll need in the remainder of this lab."
      ]
    },
    {
      "cell_type": "code",
      "metadata": {
        "id": "MA4tMmOpD05F",
        "colab_type": "code",
        "colab": {}
      },
      "source": [
        "from pyspark.ml.classification import GBTClassifier, DecisionTreeClassifier, LogisticRegression, RandomForestClassifier\n",
        "from pyspark.ml.tuning import ParamGridBuilder, CrossValidator, TrainValidationSplit\n",
        "from pyspark.ml.evaluation import BinaryClassificationEvaluator\n",
        "import numpy as np"
      ],
      "execution_count": 21,
      "outputs": []
    },
    {
      "cell_type": "markdown",
      "metadata": {
        "id": "OUcQ2A22D05I",
        "colab_type": "text"
      },
      "source": [
        "### Logistic Regression\n",
        "\n",
        "First, we'll try with a simple Logistic Regression Model:\n",
        "\n",
        "* instantiate a logistic regression model\n",
        "* add it to the stages list\n",
        "* instantiate a new Pipeline estimator (not fit) with all of the stages\n",
        "* instantiate an `BinaryClassificationEvaluator`\n",
        "* create parameters to gridsearch through using `ParamGridBuilder`\n",
        "* Instantiate and fit a `CrossValidator` "
      ]
    },
    {
      "cell_type": "code",
      "metadata": {
        "id": "uIL1ojIUD05I",
        "colab_type": "code",
        "colab": {}
      },
      "source": [
        "# your code here\n",
        "lr = LogisticRegression(featuresCol='features',labelCol='default')\n",
        "p = Pipeline(stages=stages + [lr])\n",
        "evaluation = BinaryClassificationEvaluator(labelCol = 'default',metricName='areaUnderROC')\n",
        "\n",
        "lr_params = ParamGridBuilder().addGrid(lr.regParam,[0.0,0.2,0.5,1.0])\\\n",
        ".addGrid(lr.standardization,[True,False])\\\n",
        ".build()\n",
        "\n",
        "cv = CrossValidator(estimator=p, estimatorParamMaps=lr_params,evaluator=evaluation,parallelism=4)\n",
        "model = cv.fit(spark_df_done)"
      ],
      "execution_count": 22,
      "outputs": []
    },
    {
      "cell_type": "markdown",
      "metadata": {
        "id": "di0Ind1DD05K",
        "colab_type": "text"
      },
      "source": [
        "Determine how well your model performed by looking at the evaluator metrics. If you tried multiple parameters, which performed best?"
      ]
    },
    {
      "cell_type": "code",
      "metadata": {
        "id": "j5y9FeGKD05K",
        "colab_type": "code",
        "colab": {
          "base_uri": "https://localhost:8080/",
          "height": 71
        },
        "outputId": "a4b26a7f-1294-47e0-bbba-18b6363447ba"
      },
      "source": [
        "# print out the AUC of your best model as well as the parameters of your best model\n",
        "index_best_model = np.argmax(model.avgMetrics)\n",
        "print(model.avgMetrics[index_best_model],'AUC')\n",
        "print('best parameters : ',lr_params[index_best_model])"
      ],
      "execution_count": 23,
      "outputs": [
        {
          "output_type": "stream",
          "text": [
            "0.7184828078821773 AUC\n",
            "best parameters :  {Param(parent='LogisticRegression_584fe3ee2253', name='regParam', doc='regularization parameter (>= 0).'): 0.0, Param(parent='LogisticRegression_584fe3ee2253', name='standardization', doc='whether to standardize the training features before fitting the model.'): True}\n"
          ],
          "name": "stdout"
        }
      ]
    },
    {
      "cell_type": "markdown",
      "metadata": {
        "id": "O-KN2yS-D05N",
        "colab_type": "text"
      },
      "source": [
        "#### Now try this again with other classifiers. Try and create a function that will allow you to easily test different models with different parameters. This function is optional, but it should allow for your code to be far more D.R.Y. The function should return the fitted cross-validated model as well as print out the performance metrics of the best performing model and the best parameters."
      ]
    },
    {
      "cell_type": "code",
      "metadata": {
        "id": "cJK-6DwND05O",
        "colab_type": "code",
        "colab": {}
      },
      "source": [
        "# create function to cross validate models with different parameters\n",
        "def create_model(ml_model,\n",
        "                 preprocessing_stages,\n",
        "                 param_grid,\n",
        "                 parallel = 4,\n",
        "                 evaluation_metric = 'areaUnderROC',\n",
        "                 parafeaturesCol = 'features',\n",
        "                 label='default'):\n",
        "    \n",
        "    stage_with_ml = preprocessing_stages + [ml_model]\n",
        "    pipe = Pipeline(stages=stage_with_ml)\n",
        "    \n",
        "    evaluation = BinaryClassificationEvaluator(labelCol = label,metricName=evaluation_metric)\n",
        "    model = CrossValidator(estimator = pipe,\n",
        "                        estimatorParamMaps=param_grid,\n",
        "                        evaluator = evaluation,\n",
        "                       parallelism = parallel).fit(spark_df_done)\n",
        "\n",
        "    index_best_model = np.argmax(model.avgMetrics)\n",
        "    print('best performing model: ', model.avgMetrics[index_best_model],'AUC')\n",
        "    print('best parameters: ',param_grid[index_best_model])\n",
        "    return model\n"
      ],
      "execution_count": 24,
      "outputs": []
    },
    {
      "cell_type": "markdown",
      "metadata": {
        "id": "Fvb3hn1qD05Q",
        "colab_type": "text"
      },
      "source": [
        "Train a Random Forest classifier and determine the best performing model with the best parameters. This might take a while! Be smart about how you use parallelization here."
      ]
    },
    {
      "cell_type": "code",
      "metadata": {
        "id": "L_dqrbPXD05Q",
        "colab_type": "code",
        "colab": {
          "base_uri": "https://localhost:8080/",
          "height": 71
        },
        "outputId": "650f600a-0337-4cb0-ed9e-f9ff10cadfff"
      },
      "source": [
        "# code to train Random Forest Classifier\n",
        "# ⏰ This cell may take a long time to run\n",
        "rf = RandomForestClassifier(featuresCol='features',labelCol='default')\n",
        "rf_params = ParamGridBuilder()\\\n",
        ".addGrid(rf.maxDepth, [5,10])\\\n",
        " .addGrid(rf.numTrees, [20,50,100,200])\\\n",
        " .build()\n",
        "\n",
        "rf_model = create_model(rf,stages,rf_params)"
      ],
      "execution_count": 25,
      "outputs": [
        {
          "output_type": "stream",
          "text": [
            "best performing model:  0.778968783643387 AUC\n",
            "best parameters:  {Param(parent='RandomForestClassifier_80275e6e47b1', name='maxDepth', doc='Maximum depth of the tree. (>= 0) E.g., depth 0 means 1 leaf node; depth 1 means 1 internal node + 2 leaf nodes.'): 10, Param(parent='RandomForestClassifier_80275e6e47b1', name='numTrees', doc='Number of trees to train (>= 1).'): 100}\n"
          ],
          "name": "stdout"
        }
      ]
    },
    {
      "cell_type": "markdown",
      "metadata": {
        "id": "XmcSGpECD05T",
        "colab_type": "text"
      },
      "source": [
        "Now train a Gradient Boosting Classifier. **This might take a very long time depending on the number of parameters you are training**"
      ]
    },
    {
      "cell_type": "code",
      "metadata": {
        "id": "1OyKEz3TD05T",
        "colab_type": "code",
        "colab": {
          "base_uri": "https://localhost:8080/",
          "height": 71
        },
        "outputId": "8d40516c-a46f-43c8-ae81-971b920b4fc0"
      },
      "source": [
        "# code to train Gradient Boosting Classifier\n",
        "# ⏰ This cell may take a long time to run\n",
        "gb = GBTClassifier(featuresCol='features',labelCol='default')\n",
        "param_gb = ParamGridBuilder().addGrid(gb.maxDepth,[1,5]).addGrid(gb.maxIter,[20,50,100]).build()\n",
        "\n",
        "gb_model = create_model(gb,stages, param_grid=param_gb, parallel=4)"
      ],
      "execution_count": 26,
      "outputs": [
        {
          "output_type": "stream",
          "text": [
            "best performing model:  0.778525727144856 AUC\n",
            "best parameters:  {Param(parent='GBTClassifier_2f548bad7fbf', name='maxDepth', doc='Maximum depth of the tree. (>= 0) E.g., depth 0 means 1 leaf node; depth 1 means 1 internal node + 2 leaf nodes.'): 5, Param(parent='GBTClassifier_2f548bad7fbf', name='maxIter', doc='max number of iterations (>= 0).'): 50}\n"
          ],
          "name": "stdout"
        }
      ]
    },
    {
      "cell_type": "markdown",
      "metadata": {
        "id": "sFTnct3JD05V",
        "colab_type": "text"
      },
      "source": [
        "It looks like the optimal performing model is the Random Forest Classifier Model because it has the highest AUC!\n",
        "\n",
        "## Level Up (Optional)\n",
        "\n",
        "* Create ROC curves for each of these models\n",
        "* Try the multi-layer perceptron classifier algorithm. You will soon learn about what this means in the neural network section!"
      ]
    },
    {
      "cell_type": "markdown",
      "metadata": {
        "id": "Q3e6bCFrD05V",
        "colab_type": "text"
      },
      "source": [
        "## Summary\n",
        "\n",
        "If you've made it thus far, congratulations! Spark is an in-demand skill, but it is not particularly easy to master. In this lesson, you fit multiple different machine learning pipelines for a classification problem. If you want to take your Spark skills to the next level, connect to a distributed cluster using a service like AWS or Databricks and perform these Spark operations on the cloud."
      ]
    }
  ]
}